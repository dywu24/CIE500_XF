{
 "cells": [
  {
   "cell_type": "markdown",
   "metadata": {},
   "source": [
    " In this task, we will summarize all the codes we have mentioned in previous task. You are required to fill the missing\n",
    " parts of the codes of this template by the end of this class. "
   ]
  },
  {
   "cell_type": "markdown",
   "metadata": {},
   "source": [
    "## Section 1: Create network via networkx"
   ]
  },
  {
   "cell_type": "markdown",
   "metadata": {},
   "source": [
    "Please create an indirect network with 100 nodes and randomly edge connection. You may use the following template"
   ]
  },
  {
   "cell_type": "code",
   "execution_count": null,
   "metadata": {},
   "outputs": [],
   "source": [
    "import networkx as nx\n",
    "import matplotlib.pyplot as plt\n",
    "import random"
   ]
  },
  {
   "cell_type": "code",
   "execution_count": null,
   "metadata": {},
   "outputs": [],
   "source": [
    "def edge_list():\n",
    "    # Please finishe the edge list creation in this function ..."
   ]
  },
  {
   "cell_type": "code",
   "execution_count": null,
   "metadata": {},
   "outputs": [],
   "source": [
    "# create edge list from your defined function. \n",
    "edgelist = edge_list()\n",
    " # then you can create the graph using the edge list\n",
    "G = nx.from_edgelist(edgelist)"
   ]
  },
  {
   "cell_type": "code",
   "execution_count": null,
   "metadata": {},
   "outputs": [],
   "source": [
    "# we use the spring layout to determine the position of nodes. You can find more types of layout in the website\n",
    "# https://networkx.org/documentation/stable/reference/generated/networkx.drawing.layout.spring_layout.html\n",
    "\n",
    "pos = nx.spring_layout(G) \n",
    "# Finish the visualization of the network you just created. "
   ]
  },
  {
   "cell_type": "markdown",
   "metadata": {},
   "source": [
    "## Section 2: Create network via the geographic data"
   ]
  },
  {
   "cell_type": "code",
   "execution_count": null,
   "metadata": {},
   "outputs": [],
   "source": [
    "import geopandas as gpd\n",
    "import momepy\n"
   ]
  },
  {
   "cell_type": "code",
   "execution_count": null,
   "metadata": {},
   "outputs": [],
   "source": [
    "# Please read the data in the folder rivernetwork. \n",
    "gpd_data = gpd.read_file( )"
   ]
  },
  {
   "cell_type": "code",
   "execution_count": null,
   "metadata": {},
   "outputs": [],
   "source": [
    "# Visualize the data structure of the geopandas data\n",
    "gpd_data.head()"
   ]
  },
  {
   "cell_type": "code",
   "execution_count": null,
   "metadata": {},
   "outputs": [],
   "source": [
    "# using the geopands.explode function to explode multi-line into multiple  single line. \n",
    "\n",
    "gpd_data_exploded = gpd_data.explode(ignore_index=True, index_parts=False)"
   ]
  },
  {
   "cell_type": "code",
   "execution_count": null,
   "metadata": {},
   "outputs": [],
   "source": [
    "# Now convert the gpd data into networkx via momepy"
   ]
  },
  {
   "cell_type": "code",
   "execution_count": null,
   "metadata": {},
   "outputs": [],
   "source": [
    "# Please use this code to visaulize you network\n",
    "\n",
    "pos = {node: node for node in G.nodes()}\n",
    "\n"
   ]
  },
  {
   "cell_type": "markdown",
   "metadata": {},
   "source": [
    "## Section 3: Create network via hydraulic model"
   ]
  },
  {
   "cell_type": "markdown",
   "metadata": {},
   "source": [
    "Most common hydraulic models developed by US EPA is the EPANET and SWMM. Both files use an inp format. Each model has a\n",
    "corresponding python package, i.e., the wntr and swmmio. We will visualize both models using networkx in this class. "
   ]
  },
  {
   "cell_type": "markdown",
   "metadata": {},
   "source": [
    "Install the wntr and pyswmm in your computer:\n",
    "\n",
    "pip install wntr\n",
    "\n",
    "pip install pyswmm"
   ]
  },
  {
   "cell_type": "code",
   "execution_count": null,
   "metadata": {},
   "outputs": [],
   "source": [
    "from swmmio import Model\n",
    "import networkx as nx"
   ]
  },
  {
   "cell_type": "code",
   "execution_count": null,
   "metadata": {},
   "outputs": [],
   "source": [
    "model = Model('Drainage_Example.inp')\n",
    "G = model.network\n",
    "pos = {}\n",
    "for node in G.nodes():\n",
    "    pos[node] = G.nodes[node]['geometry']['coordinates']"
   ]
  },
  {
   "cell_type": "code",
   "execution_count": null,
   "metadata": {},
   "outputs": [],
   "source": [
    "# Plost the drainage system in this cell"
   ]
  },
  {
   "cell_type": "markdown",
   "metadata": {},
   "source": [
    "We also have the graph conversion tool for the hydraulic system"
   ]
  },
  {
   "cell_type": "code",
   "execution_count": null,
   "metadata": {},
   "outputs": [],
   "source": [
    "import wntr\n",
    "\n",
    "wn = wntr.network.WaterNetworkModel(\"Drinking_example.inp\")\n",
    "\n",
    "G =wntr.network.io.to_graph(wn)\n",
    "\n",
    "pos = {}\n",
    "for node in G.nodes():\n",
    "    pos[node]  = G.nodes[node]['pos']\n"
   ]
  },
  {
   "cell_type": "code",
   "execution_count": null,
   "metadata": {},
   "outputs": [],
   "source": [
    "nx.draw_networkx(G,\n",
    "    pos=pos,\n",
    "    width=0.5,\n",
    "    with_labels=False,\n",
    "    node_color=\"lightblue\",\n",
    "    edge_color=\"gray\",\n",
    "    arrowsize = 0.5,\n",
    "    node_size=0,)"
   ]
  }
 ],
 "metadata": {
  "kernelspec": {
   "display_name": "CIE500",
   "language": "python",
   "name": "python3"
  },
  "language_info": {
   "codemirror_mode": {
    "name": "ipython",
    "version": 3
   },
   "file_extension": ".py",
   "mimetype": "text/x-python",
   "name": "python",
   "nbconvert_exporter": "python",
   "pygments_lexer": "ipython3",
   "version": "3.12.8"
  }
 },
 "nbformat": 4,
 "nbformat_minor": 2
}
